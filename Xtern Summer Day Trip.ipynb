{
 "cells": [
  {
   "cell_type": "code",
   "execution_count": 1,
   "id": "97e760da",
   "metadata": {},
   "outputs": [],
   "source": [
    "import pandas as pd"
   ]
  },
  {
   "cell_type": "code",
   "execution_count": 10,
   "id": "98d1e1bc",
   "metadata": {},
   "outputs": [
    {
     "name": "stdout",
     "output_type": "stream",
     "text": [
      "          Time                     Place  \\\n",
      "0   8:30:00 AM    Monument Circle meetup   \n",
      "1   9:00:00 AM          Eagle Creek Park   \n",
      "2  10:00:00 AM      Wheel Fun rentals OR   \n",
      "3  10:00:00 AM         Go Ape Adventures   \n",
      "4  01:30:00 PM                 The Eagle   \n",
      "5  02:45:00 PM    Indianapolis Catacombs   \n",
      "6  04:00:00 PM                PumkinFish   \n",
      "7  05:00:00 PM  Indianapolis City Market   \n",
      "\n",
      "                                             Address  \\\n",
      "0                         Monument Cir, Indianapolis   \n",
      "1             7840 W 56th St, Indianapolis, IN 46254   \n",
      "2             7840 W 56th St, Indianapolis, IN 46254   \n",
      "3             5855 Delong Rd, Indianapolis, IN 46254   \n",
      "4      310 Massachusetts Ave, Indianapolis, IN 46204   \n",
      "5            222 E Market St, Indianapolis, IN 46204   \n",
      "6  906 Carrollton Ave Ste 440, Indianapolis, IN 4...   \n",
      "7            222 E Market St, Indianapolis, IN 46204   \n",
      "\n",
      "                      Activity_Type    Duration  \\\n",
      "0                            Meetup               \n",
      "1         Walking Tour, Photography      1 hour   \n",
      "2                       Watersports   2.5 hours   \n",
      "3                           Zipline   2.5 hours   \n",
      "4                             Lunch   1.5 hours   \n",
      "5                              Tour  30-45 mins   \n",
      "6                          Shopping      1 hour   \n",
      "7  Shopping/Explore Cuisines/Dinner     2 hours   \n",
      "\n",
      "                                             Website Transit_Type  \n",
      "0                                                                  \n",
      "1                        https://eaglecreekpark.org/      Driving  \n",
      "2  https://wheelfunrentals.com/in/indianapolis/ea...      Driving  \n",
      "3  https://www.goape.com/location/indiana-indiana...               \n",
      "4                   https://www.eaglerestaurant.com/      Driving  \n",
      "5  https://www.indycm.com/market-directory/city-m...      Walking  \n",
      "6                            https://pumkinfish.com/  Walk/IndyGo  \n",
      "7                            https://www.indycm.com/  Walk/IndyGo  \n"
     ]
    }
   ],
   "source": [
    "daytrip={'Time':['8:30:00 AM','9:00:00 AM','10:00:00 AM','10:00:00 AM','01:30:00 PM','02:45:00 PM','04:00:00 PM','05:00:00 PM'], 'Place':['Monument Circle meetup','Eagle Creek Park','Wheel Fun rentals OR','Go Ape Adventures','The Eagle', 'Indianapolis Catacombs','PumkinFish','Indianapolis City Market'],'Address':['Monument Cir, Indianapolis','7840 W 56th St, Indianapolis, IN 46254','7840 W 56th St, Indianapolis, IN 46254','5855 Delong Rd, Indianapolis, IN 46254','310 Massachusetts Ave, Indianapolis, IN 46204','222 E Market St, Indianapolis, IN 46204','906 Carrollton Ave Ste 440, Indianapolis, IN 46202','222 E Market St, Indianapolis, IN 46204'],        'Activity_Type':['Meetup','Walking Tour, Photography','Watersports','Zipline','Lunch','Tour','Shopping','Shopping/Explore Cuisines/Dinner'],'Duration':[' ','1 hour', '2.5 hours','2.5 hours','1.5 hours','30-45 mins','1 hour', '2 hours'],'Website':[' ','https://eaglecreekpark.org/', 'https://wheelfunrentals.com/in/indianapolis/eagle-creek-outfitters/','https://www.goape.com/location/indiana-indianapolis/','https://www.eaglerestaurant.com/','https://www.indycm.com/market-directory/city-market-catacombs/','https://pumkinfish.com/', 'https://www.indycm.com/'], 'Transit_Type':[' ','Driving', 'Driving',' ', 'Driving','Walking','Walk/IndyGo', 'Walk/IndyGo']}\n",
    "dt=pd.DataFrame(daytrip)\n",
    "print (dt)"
   ]
  },
  {
   "cell_type": "markdown",
   "id": "600af3f8",
   "metadata": {},
   "source": [
    "1. Meetup at Monument Circle\n",
    "\n",
    "We begin the morning by meeting up at Monument circle. From there we drive down to Eagle Creek Park, one of the spectacular nature parks that Indianapolis has to offer to begin our day's activities \n",
    "\n",
    "Transit_Dir1 = 'https://www.google.com/maps/dir/Monument+Cir,+Indianapolis,+IN+46204/Eagle+Creek+Park,+West+56th+Street,+Indianapolis,+IN/@39.8242411,-86.298388,12z/data=!3m2!4b1!5s0x87b5c71e2c084b41:0xd074c4d64f658fc!4m14!4m13!1m5!1m1!1s0x886b50be9e1f089f:0x39d944e1a746eb96!2m2!1d-86.1584814!2d39.7689754!1m5!1m1!1s0x886caba640774c91:0x6b111ce66c64dd11!2m2!1d-86.296203!2d39.873789!3e0?authuser=0&hl=en'"
   ]
  },
  {
   "cell_type": "markdown",
   "id": "5a39a6b6",
   "metadata": {},
   "source": [
    "2. Eagle Creek Park\n",
    "\n",
    "We have a number of activities planned for this spot.\n",
    "We begin with a nature walk along one of several of the trails around the area. THe Bird Sanctuary right next to the entrance is a good place to spot resident and migratory birds,\n",
    "After about an hour we can head out for the Zipline tour at Go Ape Adventures or go down to the Marina and rent boating equipment to step out onto the lake.\n",
    "\n",
    "Website_ECP = 'https://eaglecreekpark.org/'\n",
    "\n",
    "Website_BoatRentals = 'https://wheelfunrentals.com/in/indianapolis/eagle-creek-outfitters/'\n",
    "\n",
    "Website_GoApe = 'https://www.goape.com/location/indiana-indianapolis/'\n",
    "\n",
    "Transit_Dir_Go_Ape = 'https://www.google.com/maps/dir/Eagle+Creek+Park,+West+56th+Street,+Indianapolis,+IN/Go+Ape+Zipline+and+Adventure+Park,+Delong+Road,+Indianapolis,+IN/@39.8669155,-86.3057468,15z/data=!3m2!4b1!5s0x87b5c71e2c084b41:0xd074c4d64f658fc!4m14!4m13!1m5!1m1!1s0x886caba640774c91:0x6b111ce66c64dd11!2m2!1d-86.296203!2d39.873789!1m5!1m1!1s0x886cabca926e759b:0x617ac74258130294!2m2!1d-86.2986157!2d39.8602183!3e0?authuser=0&hl=en\n",
    "'"
   ]
  },
  {
   "cell_type": "markdown",
   "id": "b5a83b83",
   "metadata": {},
   "source": [
    "3. Lunch at the Eagle\n",
    "\n",
    "After a fun-filled morning we head back to downtown for lunch at the famous Eagle restaurant where there is something for everyone.\n",
    "\n",
    "Eagle_Res= 'https://www.eaglerestaurant.com/'\n",
    "\n",
    "Transit_Dir_Eagle = 'https://www.google.com/maps/dir/Go+Ape+Zipline+and+Adventure+Park,+Delong+Road,+Indianapolis,+IN/The+Eagle,+Massachusetts+Avenue,+Indianapolis,+IN/@39.8255734,-86.2616034,13z/data=!3m2!4b1!5s0x87b5c71e2c084b41:0xd074c4d64f658fc!4m14!4m13!1m5!1m1!1s0x886cabca926e759b:0x617ac74258130294!2m2!1d-86.2986157!2d39.8602183!1m5!1m1!1s0x886b509571bc4967:0x29291c736e3db9b3!2m2!1d-86.1539722!2d39.7718129!3e0?authuser=0&hl=en\n",
    "'"
   ]
  },
  {
   "cell_type": "markdown",
   "id": "3f41d271",
   "metadata": {},
   "source": [
    "4. Explore the Catacombs\n",
    "\n",
    "Next, we head to the Catacombs at the Indianapolis City Market where we take a tour of the belly of Downtown.\n",
    "\n",
    "Website_CT = 'https://www.indycm.com/market-directory/city-market-catacombs/'\n",
    "\n",
    "Transit_Dir_CT = 'https://www.google.com/maps/dir/The+Eagle,+Massachusetts+Avenue,+Indianapolis,+IN/Catacombs,+East+Market+Street,+Indianapolis,+IN/@39.770104,-86.15562,17z/data=!3m2!4b1!5s0x87b5c71e2c084b41:0xd074c4d64f658fc!4m14!4m13!1m5!1m1!1s0x886b509571bc4967:0x29291c736e3db9b3!2m2!1d-86.1539722!2d39.7718129!1m5!1m1!1s0x886b5095de4ccd7f:0xd5b51f02c6a24bef!2m2!1d-86.1534198!2d39.7687329!3e2?authuser=0&hl=en\n",
    "'"
   ]
  },
  {
   "cell_type": "markdown",
   "id": "8db4e85a",
   "metadata": {},
   "source": [
    "5. Shopping & Exploring!!\n",
    "\n",
    "Website_PF = 'https://pumkinfish.com/'\n",
    "\n",
    "After our eerie walk underground, we emerge to go shopping for souvenirs at the PumkinFish and explore the area around the Indianapolis Cultural Walk\n",
    "\n",
    "Transit_Dir_PF = 'https://www.google.com/maps/dir/Catacombs,+East+Market+Street,+Indianapolis,+IN/Pumkinfish,+Carrollton+Avenue+Ste+440,+Indianapolis,+IN/@39.7738032,-86.1572717,15z/data=!3m2!4b1!5s0x87b5c71e2c084b41:0xd074c4d64f658fc!4m14!4m13!1m5!1m1!1s0x886b5095de4ccd7f:0xd5b51f02c6a24bef!2m2!1d-86.1534198!2d39.7687329!1m5!1m1!1s0x886b5094c8ba24d7:0xe8c7d1f3ad13670e!2m2!1d-86.1438895!2d39.7798356!3e3?authuser=0&hl=en\n",
    "'"
   ]
  },
  {
   "cell_type": "markdown",
   "id": "216a7ebd",
   "metadata": {},
   "source": [
    "6. Explore Cuisines and Dinner\n",
    "\n",
    "Website_ICM = 'https://www.indycm.com/'\n",
    "\n",
    "To end our wonderful day, we come back to the  Indianapolis City Market that is home to a varity of eateries and stores where we can sample several different cuisines in one place. After dinner we bid each other adieu and head back home.\n",
    "\n",
    "Good Night !!!"
   ]
  },
  {
   "cell_type": "code",
   "execution_count": null,
   "id": "7f1750ed",
   "metadata": {},
   "outputs": [],
   "source": []
  },
  {
   "cell_type": "code",
   "execution_count": null,
   "id": "c3eb35b3",
   "metadata": {},
   "outputs": [],
   "source": []
  }
 ],
 "metadata": {
  "kernelspec": {
   "display_name": "Python 3 (ipykernel)",
   "language": "python",
   "name": "python3"
  },
  "language_info": {
   "codemirror_mode": {
    "name": "ipython",
    "version": 3
   },
   "file_extension": ".py",
   "mimetype": "text/x-python",
   "name": "python",
   "nbconvert_exporter": "python",
   "pygments_lexer": "ipython3",
   "version": "3.9.7"
  }
 },
 "nbformat": 4,
 "nbformat_minor": 5
}
